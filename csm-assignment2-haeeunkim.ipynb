{
 "cells": [
  {
   "cell_type": "markdown",
   "metadata": {},
   "source": [
    "# CSM Assignment 2 : Hands-on exercise on Twitter data"
   ]
  },
  {
   "cell_type": "markdown",
   "metadata": {},
   "source": [
    "# Part 1"
   ]
  },
  {
   "cell_type": "markdown",
   "metadata": {},
   "source": [
    "In the first part of the assignment, I was somewhat unclear if I should have sample the tweets that are simply containing the given substrings'#coronavirus', 'covid-19','covid19', or the tweets that are queried through hashtag search. \n",
    "\n",
    "For example, if a tweet is quoting another tweet that contains a hashtag '#covid19', without adding any hashtag by its own, it appears to have '#covid19' in the tweet content, but it is not queried through hashtag search in Tweeter web page. \n",
    "\n",
    "After discussing this matter with Trung, I concluded that in this assignment requires the 'tagged' tweets. Eventually, it took longer to retrive 3000 samples (and I failed to collect all 3000 tweets for the second sample.) Nevertheless, when I tested with a portion of the first sample, the distribution was similar to that of the full sample. Thus, I am assuming that the second analsys is representative enough, even with the small size of the dataset."
   ]
  },
  {
   "cell_type": "code",
   "execution_count": 91,
   "metadata": {},
   "outputs": [],
   "source": [
    "from __future__ import unicode_literals\n",
    "# https://github.com/sixohsix/twitter/tree/master\n",
    "# Python Twitter Tool (Version 1.18.0)\n",
    "from twitter import *\n",
    "from twitter.stream import TwitterStream, Timeout, HeartbeatTimeout, Hangup\n",
    "import time\n",
    "import json \n",
    "import pandas as pd\n",
    "import matplotlib.pyplot as plt\n",
    "\n",
    "# Replace with your own key/secret\n",
    "consumer_key = 'vIOGhMcbFg2XEuJpyKcrC7B7Y'\n",
    "consumer_secret = 'eaiyXMuu5ldacvZEqGm3mCfVk2zZEDpG89kLMQjDZjULlQl2cl'\n",
    "resource_owner_key = '1242796426456956929-FSSHdfB9rO73Q8ZYxHjI457f0aCLCb'\n",
    "resource_owner_secret = 'g9VtkAxwnx44v4ga9xdx14Szs0XwggvMqe67tD6xH7454'"
   ]
  },
  {
   "cell_type": "code",
   "execution_count": 72,
   "metadata": {},
   "outputs": [],
   "source": [
    "# sample 1\n",
    "# non geo-localized hashtag tweets\n",
    "\n",
    "tweet_df1 = pd.DataFrame(columns=['id','text','user','quoted_status','retweeted_status','place','entities','lang','timestamp_ms'])\n",
    "\n",
    "not_satisfied = True\n",
    "count = 0\n",
    "while not_satisfied:\n",
    "    try:\n",
    "        # When using twitter stream you must authorize.\n",
    "        auth = OAuth(\n",
    "            consumer_key=consumer_key,\n",
    "            consumer_secret=consumer_secret,\n",
    "            token=resource_owner_key,\n",
    "            token_secret=resource_owner_secret\n",
    "        )\n",
    "        # Set track filter\n",
    "        query_args = {'track': '#covid19,#covid-19,#coronavirus', 'stall_warnings':True}\n",
    "\n",
    "        # Start authorization and filtering tweets\n",
    "        stream = TwitterStream(auth=auth)\n",
    "        tweet_iter = stream.statuses.filter(**query_args)\n",
    "\n",
    "\n",
    "    # Iterate over the sample stream.\n",
    "        for tweet in tweet_iter:\n",
    "\n",
    "            # We should check the type of tweet. It might be  a delete or data message.\n",
    "            if tweet is None:\n",
    "                print(\"-- None --\")\n",
    "            elif tweet is Timeout:\n",
    "                print(\"-- Timeout --\")\n",
    "            elif tweet is HeartbeatTimeout:\n",
    "                print(\"-- Heartbeat Timeout --\")\n",
    "            elif tweet is Hangup:\n",
    "                print(\"-- Hangup --\")\n",
    "            else:\n",
    "                if 'entities' in tweet.keys():\n",
    "                    hashtag_list = list(map(lambda x: x['text'].lower(),tweet['entities']['hashtags']))\n",
    "\n",
    "                    if len(set(hashtag_list).intersection({'covid19','covid-19','coronavirus'})) > 0:\n",
    "                        tweet_df1.at[count] = tweet\n",
    "                        count += 1\n",
    "                        if count == 3000:\n",
    "                            not_satisfied = False\n",
    "                            break\n",
    "\n",
    "\n",
    "    except Exception as e:\n",
    "        if str(e) == \"'entities'\":\n",
    "            print('entities error: so far {0} tweets retrieved'.format(count))\n",
    "            \n",
    "        else:\n",
    "            print('error (Follow): ' + str(e))\n",
    "        \n",
    "        time.sleep(15)\n",
    "\n",
    "tweet_df1.to_csv('sample1.csv')"
   ]
  },
  {
   "cell_type": "code",
   "execution_count": null,
   "metadata": {},
   "outputs": [],
   "source": [
    "# sample 2\n",
    "# geo-localized tweets\n",
    "\n",
    "tweet_df2 = pd.DataFrame(columns=['id','text','user','quoted_status','retweeted_status','place','entities','lang','timestamp_ms'])\n",
    "not_satisfied = True\n",
    "count = 0\n",
    "while not_satisfied:\n",
    "    try:\n",
    "        # When using twitter stream you must authorize.\n",
    "        auth = OAuth(\n",
    "            consumer_key=consumer_key,\n",
    "            consumer_secret=consumer_secret,\n",
    "            token=resource_owner_key,\n",
    "            token_secret=resource_owner_secret\n",
    "        )\n",
    "        # Set location bounding box\n",
    "        query_args = {'locations':'5.9559113,45.817994999999996,10.4922941,47.8084648','stall_warnings':True}\n",
    "        # Start authorization and filtering tweets\n",
    "        stream = TwitterStream(auth=auth)\n",
    "        tweet_iter = stream.statuses.filter(**query_args)\n",
    "\n",
    "\n",
    "    # Iterate over the sample stream.\n",
    "        for tweet in tweet_iter:\n",
    "\n",
    "            # We should check the type of tweet. It might be  a delete or data message.\n",
    "            if tweet is None:\n",
    "                print(\"-- None --\")\n",
    "            elif tweet is Timeout:\n",
    "                print(\"-- Timeout --\")\n",
    "            elif tweet is HeartbeatTimeout:\n",
    "                print(\"-- Heartbeat Timeout --\")\n",
    "            elif tweet is Hangup:\n",
    "                print(\"-- Hangup --\")\n",
    "            else:\n",
    "                print('geo boundary: ', tweet['text'])\n",
    "                if 'entities' in tweet.keys():\n",
    "                    hashtag_list = list(map(lambda x: x['text'].lower(),tweet['entities']['hashtags']))\n",
    "\n",
    "                    if len(set(hashtag_list).intersection({'covid19','covid-19','coronavirus'})) > 0:\n",
    "                        tweet_df2.at[count] = tweet\n",
    "                        count += 1\n",
    "                        print(count, tweet['text'])\n",
    "                        \n",
    "                        if count % 50 == 0:\n",
    "                            print('tweet retrieved: {0}'.format(count))\n",
    "                        \n",
    "                        if count == 10:\n",
    "                            not_satisfied = False\n",
    "                            break\n",
    "\n",
    "    except Exception as e:\n",
    "        print('error (Follow): ' + str(e))\n",
    "        # Let your application sleep in short time\n",
    "        time.sleep(15)\n",
    "        \n",
    "tweet_df2.to_csv('sample2.csv')"
   ]
  },
  {
   "cell_type": "code",
   "execution_count": 312,
   "metadata": {},
   "outputs": [],
   "source": [
    "# load the saved csv files\n",
    "import ast\n",
    "\n",
    "tweet_df1 = pd.read_csv('sample1.csv')\n",
    "tweet_df2 = pd.read_csv('sample2.csv')\n"
   ]
  },
  {
   "cell_type": "code",
   "execution_count": 357,
   "metadata": {},
   "outputs": [],
   "source": [
    "def display_analysis1(df):\n",
    "\n",
    "    # urls, retweets and quotes\n",
    "    \n",
    "    print('\\n======= urls, retweets and quotes =======')\n",
    "    \n",
    "    urls = df[df.entities.apply(lambda x: ast.literal_eval(x)['urls']!=[])].shape[0]\n",
    "    retweet = df[~df.retweeted_status.isna()].shape[0]\n",
    "    quote = df[~df.quoted_status.isna()].shape[0]\n",
    "    print('{:.2f}% of retrived tweets are containing urls'.format(urls*100/df.shape[0]))\n",
    "    print('{:.2f}% of retrieved tweets are retweets/containing retweets'.format(100 * retweet/df.shape[0]))\n",
    "    print('{:.2f}% of retrieved tweets are quoting other tweets'.format(100 * quote/ df.shape[0]))\n",
    "\n",
    "\n",
    "    # language distribution\n",
    "    print('\\n======= language distribution =======')\n",
    "    df.lang.value_counts().plot(kind='bar', figsize=(20,5))\n",
    "    plt.xticks(rotation=0)\n",
    "    plt.show()\n",
    "    print(df.lang.value_counts().head()*100/df.shape[0])\n",
    "\n",
    "\n",
    "    \n",
    "    # 20 most frequent hashtags\n",
    "    print('\\n======= most frequent hashtags =======')\n",
    "    hashtags_rank = df.entities.apply(lambda x: list(map(lambda y: y['text'].lower(), ast.literal_eval(x)['hashtags']))).explode().\\\n",
    "                                            value_counts().reset_index()\n",
    "    hashtags_rank.index = range(1,hashtags_rank.shape[0] + 1)\n",
    "    hashtags_rank = hashtags_rank.rename(columns={'index':'hashtag','entities':'frequency'})\n",
    "    print(hashtags_rank.head(20))\n",
    "\n",
    "        # distribution of the number of hashtags per tweet\n",
    "    print('\\n======= the number of hashtags per tweet =======')\n",
    "    hashtags = df.entities.apply(lambda x: list(map(lambda y: y['text'].lower(), ast.literal_eval(x)['hashtags'])))\n",
    "    print(hashtags.apply(lambda x: len(x)).value_counts())\n"
   ]
  },
  {
   "cell_type": "code",
   "execution_count": 354,
   "metadata": {},
   "outputs": [
    {
     "name": "stdout",
     "output_type": "stream",
     "text": [
      "\n",
      "======= urls, retweets and quotes =======\n",
      "17.47% of retrived tweets are containing urls\n",
      "82.00% of retrieved tweets are retweets/containing retweets\n",
      "7.77% of retrieved tweets are quoting other tweets\n",
      "\n",
      "======= language distribution =======\n"
     ]
    },
    {
     "data": {
      "image/png": "[encoded data removed]",
      "text/plain": [
       "<Figure size 1440x360 with 1 Axes>"
      ]
     },
     "metadata": {
      "needs_background": "light"
     },
     "output_type": "display_data"
    },
    {
     "name": "stdout",
     "output_type": "stream",
     "text": [
      "en     60.800000\n",
      "es     13.533333\n",
      "fr      8.466667\n",
      "in      3.433333\n",
      "und     2.533333\n",
      "Name: lang, dtype: float64\n",
      "\n",
      "======= most frequent hashtags =======\n",
      "             hashtag  frequency\n",
      "1            covid19       1813\n",
      "2        coronavirus       1348\n",
      "3           covid_19         88\n",
      "4              china         38\n",
      "5           lockdown         31\n",
      "6   coronavirustruth         26\n",
      "7           stayhome         24\n",
      "8            moselle         20\n",
      "9                nyc         20\n",
      "10          covidー19         17\n",
      "11             wuhan         15\n",
      "12       confinement         15\n",
      "13          breaking         15\n",
      "14        quarantine         15\n",
      "15             covid         14\n",
      "16     arcelormittal         12\n",
      "17          pandemic         11\n",
      "18            corona         11\n",
      "19             italy         10\n",
      "20     quedateencasa          9\n",
      "\n",
      "======= the number of hashtags per tweet =======\n",
      "1     1785\n",
      "2      707\n",
      "3      299\n",
      "4      105\n",
      "5       59\n",
      "6       21\n",
      "9        8\n",
      "7        8\n",
      "8        6\n",
      "12       1\n",
      "10       1\n",
      "Name: entities, dtype: int64\n"
     ]
    }
   ],
   "source": [
    "# the first sample - general\n",
    "display_analysis1(tweet_df1)"
   ]
  },
  {
   "cell_type": "code",
   "execution_count": 358,
   "metadata": {},
   "outputs": [
    {
     "name": "stdout",
     "output_type": "stream",
     "text": [
      "\n",
      "======= urls, retweets and quotes =======\n",
      "60.36% of retrived tweets are containing urls\n",
      "0.00% of retrieved tweets are retweets/containing retweets\n",
      "17.12% of retrieved tweets are quoting other tweets\n",
      "\n",
      "======= language distribution =======\n"
     ]
    },
    {
     "data": {
      "image/png": "[encoded data removed]",
      "text/plain": [
       "<Figure size 1440x360 with 1 Axes>"
      ]
     },
     "metadata": {
      "needs_background": "light"
     },
     "output_type": "display_data"
    },
    {
     "name": "stdout",
     "output_type": "stream",
     "text": [
      "en     31.531532\n",
      "fr     30.630631\n",
      "de     15.315315\n",
      "it      7.207207\n",
      "und     4.504505\n",
      "Name: lang, dtype: float64\n",
      "\n",
      "======= most frequent hashtags =======\n",
      "              hashtag  frequency\n",
      "1             covid19         83\n",
      "2         coronavirus         41\n",
      "3          stayathome          7\n",
      "4         confinement          6\n",
      "5            covid_19          4\n",
      "6      restezchezvous          4\n",
      "7   macrondestitution          3\n",
      "8              corona          3\n",
      "9   confinementjour15          3\n",
      "10             thonon          3\n",
      "11              italy          3\n",
      "12      covid19italia          3\n",
      "13   coronvirusitalia          2\n",
      "14           cameroun          2\n",
      "15        coronakrise          2\n",
      "16        sativaction          2\n",
      "17           chablais          2\n",
      "18          nocomment          2\n",
      "19       iorestoacasa          2\n",
      "20           mulhouse          2\n",
      "\n",
      "======= the number of hashtags per tweet =======\n",
      "1    38\n",
      "3    25\n",
      "2    21\n",
      "5    10\n",
      "4    10\n",
      "6     4\n",
      "7     2\n",
      "9     1\n",
      "Name: entities, dtype: int64\n"
     ]
    }
   ],
   "source": [
    "# the second sample - geo-localized. ***WARNING : the size of the dataset is 111, not 3000. \n",
    "display_analysis1(tweet_df2)"
   ]
  },
  {
   "cell_type": "markdown",
   "metadata": {},
   "source": [
    "## Discussion\n",
    "\n",
    "1. It took less than an hour to retrieve 3000 tweets of sample 1, and more and entire day to retrieve 111 tweets of sample 2.\n",
    "\n",
    "2. In the sample 1, more than 80 percent of tweets are retweets of others. On the contrary, in the second sample, no retweets were found. Similarily, the percentage of tweets containing urls and quoting other tweets differs greatly between the two samples. Right now I have no concrete guess towards the finding, but I am weakly assuming that Twitter is not a major social media in Switzerland, and how Twitter users behave differs a lot by the geographical region.\n",
    "\n",
    "3. Generally, English, followed by Spanish and French, is notably the most powerful language in non geo-localized Twitter world. This is no surprise, since majority of online data is in English as well. This also corresponds to my previous knowledge on language divide on web and social media. In the second sample, geo-localized in Switzerland, showed greater significance in French, German, and Italian. This is again no surprise, since those are the official langauges of Switzerland. It was unexpected, though, that the portion of english tweets is still the highest in Switzerland, whereas the portion of German, the language with the largest popularity in Switzerland, is close to half of that of English or French. \n",
    "\n",
    "3. In the first sample, a majority of top 20 hashtags are in english. Also, most of them (china, lockdown, stayhome, wuhan, confinement, etc) are somehow related to current COVID19 crisis as well. More than half of the tweets are referring to a single hashtag. In the second sample, there are more top hashtags in French rather than English. Moreover, hashtags that are related to Italy is more significant in the second case. Considering the geographical closeness of Switzerland and Italy, it is reasonable to conclude that people in Switzerland are more concerned about the situation in Italy.\n"
   ]
  },
  {
   "cell_type": "markdown",
   "metadata": {},
   "source": [
    "# Part 2"
   ]
  },
  {
   "cell_type": "markdown",
   "metadata": {},
   "source": [
    "## How I selected handles \n",
    "In order to choose the media/NGO/goverenment handles, I searched the given hashtags in the Tweeter web page, and looked for the 'verified' accounts. However, I found out that surprisingly few media channel accounts are tweeting with the hashtags. For example, New York Times(@nytimes) is tweeting a lot about the coronavirus pandemic, and the tweet contents contain the word 'coronavirus'. But they are not included in my query because it is not 'tagging' its tweets (in short, no #coronavirus hashtag)\n",
    "\n",
    "This is related to the ambiguity I faced in the first part of the assignment. In the end, I sticked to the 'hashtag entity' of tweets and chose the accounts that tweets with the tags. As a result, some of the very well-known accounts (e.g, @realDonalTrump, @cnn, etc) seem to be replaced by some unfamiliar media/NGO/government officials accounts(e.g, @sbs8news, @quicktake). With different problem definitions, the result could have been quite different from what I found out here."
   ]
  },
  {
   "cell_type": "code",
   "execution_count": 271,
   "metadata": {},
   "outputs": [],
   "source": [
    "# list of 20 media organizations\n",
    "media_dict = {\n",
    "    'skynews':7587032,\n",
    "    'quicktake':252751061,\n",
    "    'ani':355989081,\n",
    "    'lbcnews':2329058035,\n",
    "    'ajenglish':4970411,\n",
    "    \n",
    "    'bbcspotlight':89226120,\n",
    "    'gulfnews':20578408,\n",
    "    'sbs8news':91946403,\n",
    "    'hartfordcourant':14708814,\n",
    "    'huffpost':14511951,\n",
    "    \n",
    "    'nytimes':807095,\n",
    "    'techreview':15808647,\n",
    "    'nbcnews':14173315,\n",
    "    'foxnews':1367531,\n",
    "    'reuters':1652541,\n",
    "    \n",
    "    'theeconomist':5988062,\n",
    "    'laliberte':361936611,\n",
    "    'bbcafrica':36670025,\n",
    "    'washingtonpost':2467791,\n",
    "    'thecableng':1954402777,\n",
    "}\n",
    "\n",
    "\n",
    "# list of 20 NGO or goverenment officials\n",
    "ngo_gov_dict = {\n",
    "    'who':14499829,\n",
    "    'pahoemergencies':103067293,\n",
    "    'cdcgov':146569971,\n",
    "    'whonigeria':846724193345527808,\n",
    "    'Minsa_Peru':138471254,\n",
    "    \n",
    "    'Defensagob':274035504,\n",
    "    'iran_policy':1073802444,\n",
    "    'HouseDemocrats':43963249,\n",
    "    'GHS':201421060,\n",
    "    '@un':14159148,\n",
    "\n",
    "    '@Refugees':14361155,\n",
    "    '@UN_Women':17137628,\n",
    "    '@UNESCO':20646711,\n",
    "    '@WFP':27830610,\n",
    "    '@wef':5120691,\n",
    "\n",
    "    'WorldBank':27860681,\n",
    "    'IMFNews':25098482,\n",
    "    'EU_Commission':157981564,\n",
    "    'BAG_OFSP_UFSP':326650532,\n",
    "    'OECD':25390350\n",
    "}"
   ]
  },
  {
   "cell_type": "code",
   "execution_count": 375,
   "metadata": {},
   "outputs": [
    {
     "name": "stdout",
     "output_type": "stream",
     "text": [
      "0.00% of retrieved tweets are directly tweeted by selected media handles\n",
      "0.00% of retrieved tweets are directly tweeted by selected ngo/gov handles\n",
      "2.43% of retrieved tweets are retweets of selected media handles\n",
      "0.80% of retrieved tweets are retweets of selected ngo/gov handles\n"
     ]
    }
   ],
   "source": [
    "def tweeted(df, dic):\n",
    "    return df[df.user.apply(lambda x: ast.literal_eval(x)['id'] in dic.values())]\n",
    "\n",
    "def retweeted(df, dic):\n",
    "    retweeted_df = df[~df.retweeted_status.isna()]\n",
    "    return retweeted_df[retweeted_df.retweeted_status.apply(lambda x: ast.literal_eval(x)['user']['id'] in dic.values())]\n",
    "\n",
    "\n",
    "print('{:.2f}% of retrieved tweets are directly tweeted by selected media handles'.\\\n",
    "      format(tweeted(tweet_df1, media_dict).shape[0]*100/tweet_df1.shape[0]))\n",
    "print('{:.2f}% of retrieved tweets are directly tweeted by selected ngo/gov handles'.\\\n",
    "      format(tweeted(tweet_df1, ngo_gov_dict).shape[0]*100/tweet_df1.shape[0]))\n",
    "\n",
    "print('{:.2f}% of retrieved tweets are retweets of selected media handles'.\\\n",
    "      format(retweeted(tweet_df1, media_dict).shape[0]*100/tweet_df1.shape[0]))\n",
    "print('{:.2f}% of retrieved tweets are retweets of selected ngo/gov handles'.\\\n",
    "      format(retweeted(tweet_df1, ngo_gov_dict).shape[0]*100/tweet_df1.shape[0]))"
   ]
  },
  {
   "cell_type": "code",
   "execution_count": 384,
   "metadata": {},
   "outputs": [
    {
     "name": "stdout",
     "output_type": "stream",
     "text": [
      "====== media handles that appear in the sample ======\n",
      "ANI                       65\n",
      "QuickTake by Bloomberg     3\n",
      "Al Jazeera English         2\n",
      "TheCable                   2\n",
      "Sky News                   1\n",
      "Name: retweeted_status, dtype: int64\n"
     ]
    }
   ],
   "source": [
    "print('====== media handles that appear in the sample ======')\n",
    "print(retweeted(tweet_df1, media_dict).retweeted_status.apply(lambda x: ast.literal_eval(x)['user']['name']).value_counts())"
   ]
  },
  {
   "cell_type": "code",
   "execution_count": 383,
   "metadata": {},
   "outputs": [
    {
     "name": "stdout",
     "output_type": "stream",
     "text": [
      "====== ngo/gov. handles that appear in the sample ======\n",
      "World Health Organization (WHO)    15\n",
      "CDC                                 8\n",
      "Ministerio de Salud                 1\n",
      "Name: retweeted_status, dtype: int64\n"
     ]
    }
   ],
   "source": [
    "print('====== ngo/gov. handles that appear in the sample ======')\n",
    "print(retweeted(tweet_df1, ngo_gov_dict).retweeted_status.apply(lambda x: ast.literal_eval(x)['user']['name']).value_counts())"
   ]
  },
  {
   "cell_type": "markdown",
   "metadata": {},
   "source": [
    "## Discussion\n",
    "\n",
    "In the sample, none of the tweets were produced directly by the selected media/NGO/goverenment handles. The portion of the tweets generated by the 40 accounts that appear as 'retweets' is slightly higher. This corresponds to my knowledge in tweeting experience, that tweets generated by those powerful, official accounts are not substantial in number. However, the influence of those tweets appears to be very weak. This might be related to the selection of channels. To prove this, the same operation should be taken with a different collection. \n",
    "\n",
    "According to the sample, tweets of the media accounts are retweeted more than three times than that of ngo/government officials accounts. In the media channel handles, no tweets/retweets from the most famous channels (nytimes, etc) were found. This is partially due to the matter mentioned at the beginning of this part: those media are not tweeting with hashtags at the first place. Among the NGO/gov. handles, WHO was the most retweeted. This is understandable, because in time like this, updates from WHO are working as reliable news in itself.\n",
    "\n",
    "With different rules in retrieving tweets or criteria in selecting media/ngo/gov. handles, the figure could have differed a lot. "
   ]
  },
  {
   "cell_type": "code",
   "execution_count": null,
   "metadata": {},
   "outputs": [],
   "source": []
  }
 ],
 "metadata": {
  "kernelspec": {
   "display_name": "Python 3",
   "language": "python",
   "name": "python3"
  },
  "language_info": {
   "codemirror_mode": {
    "name": "ipython",
    "version": 3
   },
   "file_extension": ".py",
   "mimetype": "text/x-python",
   "name": "python",
   "nbconvert_exporter": "python",
   "pygments_lexer": "ipython3",
   "version": "3.7.4"
  }
 },
 "nbformat": 4,
 "nbformat_minor": 4
}
